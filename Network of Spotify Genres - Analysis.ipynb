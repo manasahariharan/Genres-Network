{
 "cells": [
  {
   "cell_type": "markdown",
   "metadata": {},
   "source": [
    "# Network of Spotify Genres - Analysis"
   ]
  },
  {
   "attachments": {},
   "cell_type": "markdown",
   "metadata": {},
   "source": [
    "![image.png](main.png)"
   ]
  },
  {
   "cell_type": "code",
   "execution_count": 53,
   "metadata": {},
   "outputs": [],
   "source": [
    "import numpy as np\n",
    "import pandas as pd\n",
    "import cairocffi\n",
    "import itertools\n",
    "from igraph import *\n",
    "import string"
   ]
  },
  {
   "cell_type": "markdown",
   "metadata": {},
   "source": [
    "In this workbook, I will read the data files created from using the Spotify API and build a network of genres from their co-ocurrence matrix. Whenever 2 genres are tagged for the same artist, they will be added as an edge to the network, additionally the network will be weighted by the count of times 2 genres are tagged together"
   ]
  },
  {
   "cell_type": "code",
   "execution_count": 10,
   "metadata": {},
   "outputs": [
    {
     "data": {
      "text/plain": [
       "86428"
      ]
     },
     "execution_count": 10,
     "metadata": {},
     "output_type": "execute_result"
    }
   ],
   "source": [
    "#Reading in artists data and removing artists without any genres tagged\n",
    "artists = pd.read_csv('artists_nodes_gephi.csv')\n",
    "artists = artists.loc[artists['genres'] != '[]']\n",
    "len(artists)"
   ]
  },
  {
   "cell_type": "code",
   "execution_count": 11,
   "metadata": {},
   "outputs": [
    {
     "data": {
      "text/html": [
       "<div>\n",
       "<style scoped>\n",
       "    .dataframe tbody tr th:only-of-type {\n",
       "        vertical-align: middle;\n",
       "    }\n",
       "\n",
       "    .dataframe tbody tr th {\n",
       "        vertical-align: top;\n",
       "    }\n",
       "\n",
       "    .dataframe thead th {\n",
       "        text-align: right;\n",
       "    }\n",
       "</style>\n",
       "<table border=\"1\" class=\"dataframe\">\n",
       "  <thead>\n",
       "    <tr style=\"text-align: right;\">\n",
       "      <th></th>\n",
       "      <th>followers</th>\n",
       "      <th>genres</th>\n",
       "      <th>spotify id</th>\n",
       "      <th>Label</th>\n",
       "      <th>popularity</th>\n",
       "      <th>uri</th>\n",
       "      <th>strgnrs</th>\n",
       "    </tr>\n",
       "  </thead>\n",
       "  <tbody>\n",
       "    <tr>\n",
       "      <th>75850</th>\n",
       "      <td>68</td>\n",
       "      <td>['classical percussion']</td>\n",
       "      <td>3pg5VHXLFQjl8xQA9mUZFB</td>\n",
       "      <td>Percussion Group Cincinnati</td>\n",
       "      <td>1</td>\n",
       "      <td>spotify:artist:3pg5VHXLFQjl8xQA9mUZFB</td>\n",
       "      <td>classical percussion</td>\n",
       "    </tr>\n",
       "    <tr>\n",
       "      <th>41609</th>\n",
       "      <td>10181</td>\n",
       "      <td>['rock chapin']</td>\n",
       "      <td>6V4aeixsxhlR6UEr4geYVP</td>\n",
       "      <td>Ricardo Andrade Y Los Ultimos Adictos</td>\n",
       "      <td>26</td>\n",
       "      <td>spotify:artist:6V4aeixsxhlR6UEr4geYVP</td>\n",
       "      <td>rock chapin</td>\n",
       "    </tr>\n",
       "    <tr>\n",
       "      <th>24847</th>\n",
       "      <td>19524</td>\n",
       "      <td>['glitch hop']</td>\n",
       "      <td>0uOUEsjCUSv2YvZmZtmBsX</td>\n",
       "      <td>Psymbionic</td>\n",
       "      <td>42</td>\n",
       "      <td>spotify:artist:0uOUEsjCUSv2YvZmZtmBsX</td>\n",
       "      <td>glitch hop</td>\n",
       "    </tr>\n",
       "    <tr>\n",
       "      <th>40829</th>\n",
       "      <td>24064</td>\n",
       "      <td>['afro house', 'kwaito house']</td>\n",
       "      <td>3qFcd2aD9HCbpBO88l0Zff</td>\n",
       "      <td>DJ Merlon</td>\n",
       "      <td>25</td>\n",
       "      <td>spotify:artist:3qFcd2aD9HCbpBO88l0Zff</td>\n",
       "      <td>afro house_kwaito house</td>\n",
       "    </tr>\n",
       "    <tr>\n",
       "      <th>72351</th>\n",
       "      <td>8549</td>\n",
       "      <td>['acoustic pop', 'indiecoustica']</td>\n",
       "      <td>6ls2l3WdMnYWKS0WQKghHK</td>\n",
       "      <td>Humming House</td>\n",
       "      <td>32</td>\n",
       "      <td>spotify:artist:6ls2l3WdMnYWKS0WQKghHK</td>\n",
       "      <td>acoustic pop_indiecoustica</td>\n",
       "    </tr>\n",
       "  </tbody>\n",
       "</table>\n",
       "</div>"
      ],
      "text/plain": [
       "       followers                             genres              spotify id  \\\n",
       "75850         68           ['classical percussion']  3pg5VHXLFQjl8xQA9mUZFB   \n",
       "41609      10181                    ['rock chapin']  6V4aeixsxhlR6UEr4geYVP   \n",
       "24847      19524                     ['glitch hop']  0uOUEsjCUSv2YvZmZtmBsX   \n",
       "40829      24064     ['afro house', 'kwaito house']  3qFcd2aD9HCbpBO88l0Zff   \n",
       "72351       8549  ['acoustic pop', 'indiecoustica']  6ls2l3WdMnYWKS0WQKghHK   \n",
       "\n",
       "                                       Label  popularity  \\\n",
       "75850            Percussion Group Cincinnati           1   \n",
       "41609  Ricardo Andrade Y Los Ultimos Adictos          26   \n",
       "24847                             Psymbionic          42   \n",
       "40829                              DJ Merlon          25   \n",
       "72351                          Humming House          32   \n",
       "\n",
       "                                         uri                     strgnrs  \n",
       "75850  spotify:artist:3pg5VHXLFQjl8xQA9mUZFB        classical percussion  \n",
       "41609  spotify:artist:6V4aeixsxhlR6UEr4geYVP                 rock chapin  \n",
       "24847  spotify:artist:0uOUEsjCUSv2YvZmZtmBsX                  glitch hop  \n",
       "40829  spotify:artist:3qFcd2aD9HCbpBO88l0Zff     afro house_kwaito house  \n",
       "72351  spotify:artist:6ls2l3WdMnYWKS0WQKghHK  acoustic pop_indiecoustica  "
      ]
     },
     "execution_count": 11,
     "metadata": {},
     "output_type": "execute_result"
    }
   ],
   "source": [
    "artists.sample(5)"
   ]
  },
  {
   "cell_type": "markdown",
   "metadata": {},
   "source": [
    "As you can see, the genres column is a list of tags for each artist. To build a network from this column I will first, separate the tag and count all unique genres and every combination of genres that occur in the dataset. From this list of nodes and edges, I will have a weghted network"
   ]
  },
  {
   "cell_type": "code",
   "execution_count": 20,
   "metadata": {},
   "outputs": [],
   "source": [
    "gnrs = []\n",
    "for i in artists.index:\n",
    "    tmpdict = {'genre': artists['strgnrs'][i].split(\"_\"),'popularity': artists['popularity'][i],\n",
    "              'followers': artists['followers'][i]}\n",
    "    gnrs.append(tmpdict)\n",
    "c = [{'genres': list(itertools.combinations(i['genre'],2)), 'popularity': i['popularity'], 'followers': i['followers']} for i in gnrs]\n"
   ]
  },
  {
   "cell_type": "code",
   "execution_count": 21,
   "metadata": {},
   "outputs": [],
   "source": [
    "#Creating a list of edges from the combinations created above\n",
    "edges = [{'edge': j, 'population': i['popularity'],'followers': i['followers']}  for i in c for j in i['genres']]\n",
    "edges = pd.DataFrame.from_dict(edges)\n",
    "edges = pd.DataFrame(edges.groupby(['edge']).agg(['mean','count']))\n",
    "edges.columns = ['mean popularity','count','mean followers', 'all count']\n",
    "edges = edges.reset_index()\n",
    "edges = edges[['edge','mean popularity','count','mean followers']]\n"
   ]
  },
  {
   "cell_type": "code",
   "execution_count": 22,
   "metadata": {},
   "outputs": [],
   "source": [
    "nodes = [{'node': j, 'population': i['popularity'],'followers': i['followers']}  for i in gnrs for j in i['genre']]\n",
    "nodes = pd.DataFrame.from_dict(nodes)\n",
    "nodes = pd.DataFrame(nodes.groupby(['node']).agg(['mean','count']))\n",
    "nodes.columns = ['mean popularity','count','mean followers', 'all count']\n",
    "nodes = nodes.reset_index()\n",
    "nodes = nodes[['node','mean popularity','count','mean followers']]\n",
    "# nodes = nodes[72:].reset_index(drop = True)"
   ]
  },
  {
   "cell_type": "code",
   "execution_count": 23,
   "metadata": {},
   "outputs": [],
   "source": [
    "# Create graph\n",
    "g = Graph()\n",
    "g.add_vertices(nodes['node'])\n",
    "g.add_edges(edges['edge'])\n",
    "g.es['weight'] = edges['count']\n",
    "g.es['popularity'] = edges['mean popularity']\n",
    "g.es['followers'] = edges['mean followers']\n",
    "g.vs['weight'] = nodes['count']\n",
    "g.vs['popularity'] = nodes['mean popularity']\n",
    "g.vs['followers'] = nodes['mean followers']\n",
    "g.to_undirected()"
   ]
  },
  {
   "cell_type": "markdown",
   "metadata": {},
   "source": [
    "## Understanding the Network"
   ]
  },
  {
   "cell_type": "markdown",
   "metadata": {},
   "source": [
    "The network now has  4174 vertices and a pretty low density. Lower densities are typical as the network gets bigger."
   ]
  },
  {
   "cell_type": "code",
   "execution_count": 24,
   "metadata": {},
   "outputs": [
    {
     "name": "stdout",
     "output_type": "stream",
     "text": [
      "Number of vertices: 4174\n",
      "Number of edges: 48759\n",
      "Density of the graph: 0.0055986582234964525\n"
     ]
    }
   ],
   "source": [
    "print(\"Number of vertices:\", g.vcount())\n",
    "print(\"Number of edges:\", g.ecount())\n",
    "print(\"Density of the graph:\", 2*g.ecount()/(g.vcount()*(g.vcount()-1)))"
   ]
  },
  {
   "cell_type": "markdown",
   "metadata": {},
   "source": [
    "Below we can see that the average degree is 23.91, while the max degree is pretty high. The top 10 vertices by degree are shown below. \"Art Pop\" seems to be the most connected genre. This would make more sense obnce you see the network, as it makes sense that a ambiguous, experimental genre like Art Pop would be associated with a wide variety of genres. The weighted degree which takes into account the edge weights shows a slightly different picture, we see that Rock seems to have the highest weighted degree. This is the metric we will use in our graph visualization."
   ]
  },
  {
   "cell_type": "code",
   "execution_count": 25,
   "metadata": {},
   "outputs": [
    {
     "name": "stdout",
     "output_type": "stream",
     "text": [
      "Average degree: 23.363200766650696\n",
      "Maximum degree: 323\n",
      "Vertex ID with the maximum degree: 159\n"
     ]
    }
   ],
   "source": [
    "degrees = []\n",
    "total = 0\n",
    "nodelength = len(nodes)\n",
    "\n",
    "for n in range(nodelength):\n",
    "    neighbours = g.neighbors(n, mode='ALL')\n",
    "    total += len(neighbours)\n",
    "    degrees.append(len(neighbours))\n",
    "    \n",
    "print(\"Average degree:\", total/nodelength)\n",
    "print(\"Maximum degree:\", max(degrees))\n",
    "print(\"Vertex ID with the maximum degree:\", degrees.index(max(degrees)))"
   ]
  },
  {
   "cell_type": "code",
   "execution_count": 26,
   "metadata": {
    "scrolled": false
   },
   "outputs": [
    {
     "name": "stdout",
     "output_type": "stream",
     "text": [
      "Vertex: art pop, Degree: 323\n",
      "Vertex: rock, Degree: 299\n",
      "Vertex: indie rock, Degree: 289\n",
      "Vertex: modern rock, Degree: 278\n",
      "Vertex: electronica, Degree: 275\n",
      "Vertex: experimental, Degree: 262\n",
      "Vertex: freak folk, Degree: 259\n",
      "Vertex: indie pop, Degree: 249\n",
      "Vertex: dance pop, Degree: 248\n",
      "Vertex: pop rock, Degree: 239\n"
     ]
    }
   ],
   "source": [
    "degreever = sorted(zip(g.degree(),g.vs), reverse = True)\n",
    "for i in degreever[:10]:\n",
    "    print(\"Vertex: \"+i[1]['name']+\", Degree: \"+str(i[0]))"
   ]
  },
  {
   "cell_type": "code",
   "execution_count": 40,
   "metadata": {},
   "outputs": [
    {
     "name": "stdout",
     "output_type": "stream",
     "text": [
      "Vertex: rock, Weighted Degree: 4093.0\n",
      "Vertex: indie rock, Weighted Degree: 3007.0\n",
      "Vertex: folk rock, Weighted Degree: 2872.0\n",
      "Vertex: dance pop, Weighted Degree: 2846.0\n",
      "Vertex: roots rock, Weighted Degree: 2740.0\n",
      "Vertex: edm, Weighted Degree: 2614.0\n",
      "Vertex: hip hop, Weighted Degree: 2507.0\n",
      "Vertex: alternative rock, Weighted Degree: 2490.0\n",
      "Vertex: electro house, Weighted Degree: 2488.0\n",
      "Vertex: indie pop, Weighted Degree: 2487.0\n"
     ]
    }
   ],
   "source": [
    "weights = sorted(zip(g.strength(weights=g.es[\"weight\"]),g.vs), reverse = True)\n",
    "for i in weights[:10]:\n",
    "    print(\"Vertex: \"+i[1]['name']+\", Weighted Degree: \"+str(i[0]))"
   ]
  },
  {
   "cell_type": "markdown",
   "metadata": {},
   "source": [
    "The distribution of degree is heavily right-skewed which is typical of real-world networks. The curve could also be close to a power-law distribution with alpha between 2 and 3, in which case it would be a Scale-Free network, I tried using the Kolmogorov-Smirnoff test to check if the data fit a power law distribution, but the hypothesis was rejected, so this isn't really a scale-free network"
   ]
  },
  {
   "cell_type": "code",
   "execution_count": 41,
   "metadata": {},
   "outputs": [
    {
     "data": {
      "image/png": "[encoded data removed]",
      "text/plain": [
       "<Figure size 432x288 with 1 Axes>"
      ]
     },
     "metadata": {
      "needs_background": "light"
     },
     "output_type": "display_data"
    }
   ],
   "source": [
    "import matplotlib.pyplot as plt\n",
    "plt.hist(g.degree(),bins = range(0,max(g.degree()),5))\n",
    "plt.title(\"Distribution of Degree\")\n",
    "plt.xlabel(\"Degree\")\n",
    "plt.ylabel(\"Count\")\n",
    "plt.show()"
   ]
  },
  {
   "cell_type": "code",
   "execution_count": 48,
   "metadata": {},
   "outputs": [
    {
     "name": "stdout",
     "output_type": "stream",
     "text": [
      "Fitted power-law distribution on discrete data\n",
      "\n",
      "Exponent (alpha)  = 2.454340\n",
      "Cutoff (xmin)     = 28.000000\n",
      "\n",
      "Log-likelihood    = -4863.568282\n",
      "\n",
      "H0: data was drawn from the fitted distribution\n",
      "\n",
      "KS test statistic = 0.067088\n",
      "p-value           = 0.000156\n",
      "\n",
      "H0 rejected at significance level 0.05\n"
     ]
    }
   ],
   "source": [
    "result = power_law_fit(g.degree())\n",
    "print(result.summary())"
   ]
  },
  {
   "cell_type": "markdown",
   "metadata": {},
   "source": [
    "Betweenness Centrality and Page Rank are 2 other measures that help us understand which nodes are most important for the flow of information. Betweenness Centrality is based on Shortest Paths from the node to all the other nodes and PageRank was the first algortihm used in google and was invented by its founders. It basically gives a probability distribution that details the likelood of landing at a given node (or genre, or webpage) when a person randomly clicks on nodes linked to their current node. "
   ]
  },
  {
   "cell_type": "code",
   "execution_count": 47,
   "metadata": {},
   "outputs": [
    {
     "name": "stdout",
     "output_type": "stream",
     "text": [
      "Vertex: dance pop, Betweenness: 203981.0397091195\n",
      "Vertex: art pop, Betweenness: 166374.84592816414\n",
      "Vertex: experimental, Betweenness: 158835.657266869\n",
      "Vertex: bow pop, Betweenness: 152847.32319806013\n",
      "Vertex: world, Betweenness: 150645.38421775124\n",
      "Vertex: afropop, Betweenness: 145094.71600556004\n",
      "Vertex: electronica, Betweenness: 144642.45581768328\n",
      "Vertex: latin alternative, Betweenness: 143913.74218047987\n",
      "Vertex: downtempo, Betweenness: 130943.21243381788\n",
      "Vertex: europop, Betweenness: 115325.26130911523\n"
     ]
    }
   ],
   "source": [
    "betweenness = sorted(zip(g.betweenness(directed = False, weights=g.es[\"weight\"]),g.vs), reverse = True)\n",
    "for i in betweenness[:10]:\n",
    "    print(\"Vertex: \"+i[1]['name']+\", Betweenness: \"+str(i[0]))"
   ]
  },
  {
   "cell_type": "code",
   "execution_count": 45,
   "metadata": {},
   "outputs": [
    {
     "name": "stdout",
     "output_type": "stream",
     "text": [
      "Vertex: art pop, Page Rank: 0.0021484964877041\n",
      "Vertex: rock, Page Rank: 0.0019640351409563055\n",
      "Vertex: indie rock, Page Rank: 0.0019463833865830916\n",
      "Vertex: dance pop, Page Rank: 0.0019401695626421356\n",
      "Vertex: electronica, Page Rank: 0.0019147254261371995\n",
      "Vertex: modern rock, Page Rank: 0.0018955353104672082\n",
      "Vertex: experimental, Page Rank: 0.0017958347861497129\n",
      "Vertex: pop, Page Rank: 0.0017614548854342422\n",
      "Vertex: freak folk, Page Rank: 0.001746417153245779\n",
      "Vertex: indie pop, Page Rank: 0.0016837363171080632\n"
     ]
    }
   ],
   "source": [
    "pgrnk = sorted(zip(g.pagerank(directed = False, weights=g.es[\"weight\"]),g.vs), reverse = True)\n",
    "for i in pgrnk[:10]:\n",
    "    print(\"Vertex: \"+i[1]['name']+\", Page Rank: \"+str(i[0]))"
   ]
  },
  {
   "cell_type": "markdown",
   "metadata": {},
   "source": [
    "## Community Detection"
   ]
  },
  {
   "cell_type": "markdown",
   "metadata": {},
   "source": [
    "In this section, I have tried to run multiple community detection models and compared them against each other. I have tried most of the algorithms implemented in the iGraph Package. I am not going to go into detail into the algorithms, but one thing to know is modularity which is a measure used to understand how well the communities are strucured. Since this is usupervised learning, we can't have one measure that gives us an exact understanding of close to the truth the algorithm is, however, modularity is a close estimator of tight our communities are. \n",
    "\n",
    "$$Q = \\sum_{i = 1}^{k}{(e_{ii}-a_{i}^2)}$$\n",
    "where $e_{ii}$ is the probability that an edge would fall in module i and $a_{i}^2$ is the probabilty that a random edge would into a module i. Hence, networks with high modularity wouuld mean that there are dense connections between the nodes within modules but sparse connections between nodes in different modules. Modularity isn't perfect, however, it suffers a resolution limit (when there are communities within communities). "
   ]
  },
  {
   "cell_type": "code",
   "execution_count": 49,
   "metadata": {},
   "outputs": [],
   "source": [
    "models = {}\n",
    "leiden1 = g.community_leiden(objective_function = 'modularity')\n",
    "models[\"leiden1\"] = leiden1\n",
    "leiden2 = g.community_leiden(objective_function = 'CPM',weights=g.es[\"weight\"])\n",
    "models[\"leiden2\"] = leiden2\n",
    "wtrap = g.community_walktrap(weights=g.es[\"weight\"])\n",
    "clust=wtrap.as_clustering()\n",
    "models[\"clust\"] = clust\n",
    "infomap = g.community_infomap(edge_weights=g.es[\"weight\"], vertex_weights = g.vs['weight'])\n",
    "models[\"infomap\"] = infomap\n",
    "labelprop = g.community_label_propagation(weights=g.es[\"weight\"])\n",
    "models[\"labelprop\"] = labelprop\n",
    "multilevel = g.community_multilevel(weights=g.es[\"weight\"])\n",
    "models[\"multilevel\"] = multilevel"
   ]
  },
  {
   "cell_type": "markdown",
   "metadata": {},
   "source": [
    "We can see that the Multilevel Algorithm gives the highest modularity. Multilevel Algorithm maximises the modularity of the network by considered a complete network with the same ertices and solving for a minimum cut problem, Multilevel Modularity also trie to solve for the resolution problem by providing different levels of cuts. I have also tried to compare the different community structures obtained by calculating the NMI (Normalised Mutual Information) of each of the community structures obtained, NMI of 1 means the structues are the exact same and nmi of 0 means they are completely different, since all the structues have nmi of over 0.5, we can possibly say that there is an underlying (if loose) structure and that our modularity isn't high through chance."
   ]
  },
  {
   "cell_type": "code",
   "execution_count": 32,
   "metadata": {},
   "outputs": [
    {
     "name": "stdout",
     "output_type": "stream",
     "text": [
      "Modularity by leiden1: 0.5895997958907125\n",
      "Number of clusters according to leiden1: 193\n",
      "Modularity by leiden2: 0.5927912417386231\n",
      "Number of clusters according to leiden2: 1930\n",
      "Modularity by clust: 0.6397629348316202\n",
      "Number of clusters according to clust: 535\n",
      "Modularity by infomap: 0.673958622212069\n",
      "Number of clusters according to infomap: 342\n",
      "Modularity by labelprop: 0.6597714375398607\n",
      "Number of clusters according to labelprop: 356\n",
      "Modularity by multilevel: 0.7244519394937354\n",
      "Number of clusters according to multilevel: 207\n"
     ]
    }
   ],
   "source": [
    "for mod in models.items():\n",
    "    print(\"Modularity by \"+ mod[0]+\": \"+str(mod[1].modularity))\n",
    "    print(\"Number of clusters according to \"+mod[0]+\": \"+str(len(mod[1])))"
   ]
  },
  {
   "cell_type": "code",
   "execution_count": 52,
   "metadata": {},
   "outputs": [
    {
     "name": "stdout",
     "output_type": "stream",
     "text": [
      "leiden1, leiden2: 0.5580148791054518\n",
      "leiden1, clust: 0.660986964140227\n",
      "leiden1, infomap: 0.6706193916001028\n",
      "leiden1, labelprop: 0.6727219864754933\n",
      "leiden1, multilevel: 0.7130934818259026\n",
      "leiden2, clust: 0.7428695342204658\n",
      "leiden2, infomap: 0.7909825665353667\n",
      "leiden2, labelprop: 0.7600149832754615\n",
      "leiden2, multilevel: 0.642097568064561\n",
      "clust, infomap: 0.8283618523559991\n",
      "clust, labelprop: 0.8298391223853575\n",
      "clust, multilevel: 0.7283246037105391\n",
      "infomap, labelprop: 0.8644157542353473\n",
      "infomap, multilevel: 0.7934499579763219\n",
      "labelprop, multilevel: 0.7754558844041054\n"
     ]
    }
   ],
   "source": [
    "for i in range(6):\n",
    "    for j in range(i+1, 6):\n",
    "        print(list(models.items())[i][0]+\", \"+ list(models.items())[j][0]+ \": \"+str(compare_communities(list(models.items())[i][1],list(models.items())[j][1], method = \"nmi\")))"
   ]
  },
  {
   "cell_type": "markdown",
   "metadata": {},
   "source": [
    "The really fun part is the actual visualization, that lets us see how different genres \"flow\" into each other. However, iGraph will not be able to handle visualizing a graph of this size efficiently, so we will use gephi (open sorce graph visualization software) for the actual visualization. I have used the Multilevel Algorithm to create Community IDs and color code the nodes so we can see the structure of the network. The full network is visualized here: https://manasahariharan.github.io/Spotify-Artist-Networks/\n"
   ]
  }
 ],
 "metadata": {
  "kernelspec": {
   "display_name": "Python 3",
   "language": "python",
   "name": "python3"
  },
  "language_info": {
   "codemirror_mode": {
    "name": "ipython",
    "version": 3
   },
   "file_extension": ".py",
   "mimetype": "text/x-python",
   "name": "python",
   "nbconvert_exporter": "python",
   "pygments_lexer": "ipython3",
   "version": "3.6.10"
  }
 },
 "nbformat": 4,
 "nbformat_minor": 4
}
